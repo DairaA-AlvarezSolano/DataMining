{
  "nbformat": 4,
  "nbformat_minor": 0,
  "metadata": {
    "colab": {
      "provenance": []
    },
    "kernelspec": {
      "name": "python3",
      "display_name": "Python 3"
    },
    "language_info": {
      "name": "python"
    }
  },
  "cells": [
    {
      "cell_type": "markdown",
      "source": [
        "#Creación data frame\n",
        "Este script genera un conjunto de datos con 200 filas y las siguientes columnas:\n",
        "- PatientID: un número entero aleatorio entre 1000 y 9999.\n",
        "- ProviderID: un número entero aleatorio entre 100 y 999.\n",
        "- DiagnosisCode: un código de diagnóstico aleatorio en el formato 'Dxxx', donde 'xxx' es un número entero aleatorio entre 1 y 999.\n",
        "ProcedureCode: un código de procedimiento aleatorio en el formato 'Pxxx', donde 'xxx' es un número entero aleatorio entre 1 y 999.\n",
        "- ServiceDate: una fecha de servicio aleatoria en 2020.\n",
        "- BilledAmount: una cantidad facturada aleatoria entre 100.0 y 1000.0.\n",
        "- PaidAmount: una cantidad pagada aleatoria entre 50.0 y 500.0.\n",
        "- Fraud: una bandera de fraude aleatoria, donde 1 indica fraude y 0 indica no fraude. Se ha establecido una probabilidad del 5% de fraude y del 95% de no fraude."
      ],
      "metadata": {
        "id": "asAU1d6iv9N1"
      }
    },
    {
      "cell_type": "code",
      "execution_count": 214,
      "metadata": {
        "id": "XOKI5r6ar5De"
      },
      "outputs": [],
      "source": [
        "import pandas as pd\n",
        "import numpy as np\n",
        "import random\n",
        "\n",
        "# Generar datos aleatorios\n",
        "np.random.seed(0)\n",
        "random.seed(0)\n",
        "\n",
        "patient_ids = np.random.randint(1000, 9999, size=2000)\n",
        "provider_ids = np.random.randint(100, 999, size=2000)\n",
        "diagnosis_codes = [f'D{str(i).zfill(3)}' for i in np.random.randint(1, 999, size=2000)]\n",
        "procedure_codes = [f'P{str(i).zfill(3)}' for i in np.random.randint(1, 999, size=2000)]\n",
        "service_dates = pd.date_range(start='2020-01-01', end='2020-12-31', periods=2000).date\n",
        "billed_amounts = np.random.uniform(100.0, 1000.0, size=2000)\n",
        "paid_amounts = np.random.uniform(50.0, 500.0, size=2000)\n",
        "\n",
        "# Calcular la diferencia entre BilledAmount y PaidAmount\n",
        "amount_difference = np.abs(billed_amounts - paid_amounts)\n",
        "\n",
        "# Definir un umbral para determinar si una transacción es un fraude\n",
        "# Aumentamos el umbral para reducir la cantidad de fraudes\n",
        "fraud_threshold = 600\n",
        "\n",
        "# Generar la columna de fraude basándose en la diferencia de la cantidad\n",
        "fraud_flags = (amount_difference > fraud_threshold).astype(int)\n",
        "\n",
        "# Crear el DataFrame\n",
        "df = pd.DataFrame({\n",
        "    'PatientID': patient_ids,\n",
        "    'ProviderID': provider_ids,\n",
        "    'DiagnosisCode': diagnosis_codes,\n",
        "    'ProcedureCode': procedure_codes,\n",
        "    'ServiceDate': service_dates,\n",
        "    'BilledAmount': billed_amounts,\n",
        "    'PaidAmount': paid_amounts,\n",
        "    'Fraud': fraud_flags\n",
        "})\n",
        "\n",
        "# Guardar el DataFrame como un archivo CSV\n",
        "df.to_csv('healthcare_fraud_dataset.csv', index=False)"
      ]
    },
    {
      "cell_type": "markdown",
      "source": [
        "#Importamos librerías necesarias"
      ],
      "metadata": {
        "id": "IeYH6PNfwvyJ"
      }
    },
    {
      "cell_type": "code",
      "source": [
        "import matplotlib.pyplot as plt\n",
        "import seaborn as sns\n",
        "from sklearn.model_selection import train_test_split\n",
        "from sklearn.ensemble import RandomForestClassifier\n",
        "from sklearn.metrics import accuracy_score, confusion_matrix, precision_score, recall_score, f1_score, roc_auc_score"
      ],
      "metadata": {
        "id": "HjnCAggivw-e"
      },
      "execution_count": 215,
      "outputs": []
    },
    {
      "cell_type": "markdown",
      "source": [
        "#Preprocesamiento de datos\n",
        "Convertimos códigos de diagnóstico y procedimiento a valores numéricos\n",
        "Convertimos fechas de servicio a valores numéricos"
      ],
      "metadata": {
        "id": "CTIvn5xhxGeK"
      }
    },
    {
      "cell_type": "code",
      "source": [
        "# Convertir los códigos de diagnóstico y procedimiento a valores numéricos\n",
        "df['DiagnosisCode'] = df['DiagnosisCode'].apply(lambda x: int(x[1:]))\n",
        "df['ProcedureCode'] = df['ProcedureCode'].apply(lambda x: int(x[1:]))\n",
        "\n",
        "# Convertir las fechas de servicio a valores numéricos\n",
        "df['ServiceDate'] = df['ServiceDate'].apply(lambda x: x.toordinal())"
      ],
      "metadata": {
        "id": "SyLQ22HBxT6H"
      },
      "execution_count": 216,
      "outputs": []
    },
    {
      "cell_type": "markdown",
      "source": [
        "#División del conjunto de datos\n",
        "Características (x) y objetivo (y).\n",
        "Características: variables que se utilizan para predecir objetivo (fraud)\n"
      ],
      "metadata": {
        "id": "SPslwBr_xXpg"
      }
    },
    {
      "cell_type": "code",
      "source": [
        "# Dividir el conjunto de datos en características (X) y objetivo (y)\n",
        "X = df.drop('Fraud', axis=1)\n",
        "y = df['Fraud']"
      ],
      "metadata": {
        "id": "4xLTxbqxxl6E"
      },
      "execution_count": 217,
      "outputs": []
    },
    {
      "cell_type": "markdown",
      "source": [
        "Dividimos conjunto de entrenamiento y de prueba"
      ],
      "metadata": {
        "id": "K7b8_zLHxqrY"
      }
    },
    {
      "cell_type": "code",
      "source": [
        "# Dividir el conjunto de datos en conjuntos de entrenamiento (80%) y prueba (20%)\n",
        "X_train, X_test, y_train, y_test = train_test_split(X, y, test_size=0.2, random_state=42)\n",
        "\n"
      ],
      "metadata": {
        "id": "CxeIdiYsxuUZ"
      },
      "execution_count": 218,
      "outputs": []
    },
    {
      "cell_type": "markdown",
      "source": [
        "#Creación y entrenamiento del modelo\n",
        "Utilizando randomforestclassifier(de scikit-learn).\n",
        "Se escoge porque tiene gran capacidad para manejar conjuntos de datos complejos y de alta dimensionalidad. También pueden manejar características irrelevantes o redundantes."
      ],
      "metadata": {
        "id": "krwrVFJ4x2Zn"
      }
    },
    {
      "cell_type": "code",
      "source": [
        "# Crear y entrenar el modelo\n",
        "model = RandomForestClassifier()\n",
        "model.fit(X_train, y_train)\n",
        "\n"
      ],
      "metadata": {
        "colab": {
          "base_uri": "https://localhost:8080/",
          "height": 74
        },
        "id": "hFIX2i8SyBjf",
        "outputId": "e29a38c7-7845-4b5a-a454-38823a5e3fd7"
      },
      "execution_count": 219,
      "outputs": [
        {
          "output_type": "execute_result",
          "data": {
            "text/plain": [
              "RandomForestClassifier()"
            ],
            "text/html": [
              "<style>#sk-container-id-13 {color: black;background-color: white;}#sk-container-id-13 pre{padding: 0;}#sk-container-id-13 div.sk-toggleable {background-color: white;}#sk-container-id-13 label.sk-toggleable__label {cursor: pointer;display: block;width: 100%;margin-bottom: 0;padding: 0.3em;box-sizing: border-box;text-align: center;}#sk-container-id-13 label.sk-toggleable__label-arrow:before {content: \"▸\";float: left;margin-right: 0.25em;color: #696969;}#sk-container-id-13 label.sk-toggleable__label-arrow:hover:before {color: black;}#sk-container-id-13 div.sk-estimator:hover label.sk-toggleable__label-arrow:before {color: black;}#sk-container-id-13 div.sk-toggleable__content {max-height: 0;max-width: 0;overflow: hidden;text-align: left;background-color: #f0f8ff;}#sk-container-id-13 div.sk-toggleable__content pre {margin: 0.2em;color: black;border-radius: 0.25em;background-color: #f0f8ff;}#sk-container-id-13 input.sk-toggleable__control:checked~div.sk-toggleable__content {max-height: 200px;max-width: 100%;overflow: auto;}#sk-container-id-13 input.sk-toggleable__control:checked~label.sk-toggleable__label-arrow:before {content: \"▾\";}#sk-container-id-13 div.sk-estimator input.sk-toggleable__control:checked~label.sk-toggleable__label {background-color: #d4ebff;}#sk-container-id-13 div.sk-label input.sk-toggleable__control:checked~label.sk-toggleable__label {background-color: #d4ebff;}#sk-container-id-13 input.sk-hidden--visually {border: 0;clip: rect(1px 1px 1px 1px);clip: rect(1px, 1px, 1px, 1px);height: 1px;margin: -1px;overflow: hidden;padding: 0;position: absolute;width: 1px;}#sk-container-id-13 div.sk-estimator {font-family: monospace;background-color: #f0f8ff;border: 1px dotted black;border-radius: 0.25em;box-sizing: border-box;margin-bottom: 0.5em;}#sk-container-id-13 div.sk-estimator:hover {background-color: #d4ebff;}#sk-container-id-13 div.sk-parallel-item::after {content: \"\";width: 100%;border-bottom: 1px solid gray;flex-grow: 1;}#sk-container-id-13 div.sk-label:hover label.sk-toggleable__label {background-color: #d4ebff;}#sk-container-id-13 div.sk-serial::before {content: \"\";position: absolute;border-left: 1px solid gray;box-sizing: border-box;top: 0;bottom: 0;left: 50%;z-index: 0;}#sk-container-id-13 div.sk-serial {display: flex;flex-direction: column;align-items: center;background-color: white;padding-right: 0.2em;padding-left: 0.2em;position: relative;}#sk-container-id-13 div.sk-item {position: relative;z-index: 1;}#sk-container-id-13 div.sk-parallel {display: flex;align-items: stretch;justify-content: center;background-color: white;position: relative;}#sk-container-id-13 div.sk-item::before, #sk-container-id-13 div.sk-parallel-item::before {content: \"\";position: absolute;border-left: 1px solid gray;box-sizing: border-box;top: 0;bottom: 0;left: 50%;z-index: -1;}#sk-container-id-13 div.sk-parallel-item {display: flex;flex-direction: column;z-index: 1;position: relative;background-color: white;}#sk-container-id-13 div.sk-parallel-item:first-child::after {align-self: flex-end;width: 50%;}#sk-container-id-13 div.sk-parallel-item:last-child::after {align-self: flex-start;width: 50%;}#sk-container-id-13 div.sk-parallel-item:only-child::after {width: 0;}#sk-container-id-13 div.sk-dashed-wrapped {border: 1px dashed gray;margin: 0 0.4em 0.5em 0.4em;box-sizing: border-box;padding-bottom: 0.4em;background-color: white;}#sk-container-id-13 div.sk-label label {font-family: monospace;font-weight: bold;display: inline-block;line-height: 1.2em;}#sk-container-id-13 div.sk-label-container {text-align: center;}#sk-container-id-13 div.sk-container {/* jupyter's `normalize.less` sets `[hidden] { display: none; }` but bootstrap.min.css set `[hidden] { display: none !important; }` so we also need the `!important` here to be able to override the default hidden behavior on the sphinx rendered scikit-learn.org. See: https://github.com/scikit-learn/scikit-learn/issues/21755 */display: inline-block !important;position: relative;}#sk-container-id-13 div.sk-text-repr-fallback {display: none;}</style><div id=\"sk-container-id-13\" class=\"sk-top-container\"><div class=\"sk-text-repr-fallback\"><pre>RandomForestClassifier()</pre><b>In a Jupyter environment, please rerun this cell to show the HTML representation or trust the notebook. <br />On GitHub, the HTML representation is unable to render, please try loading this page with nbviewer.org.</b></div><div class=\"sk-container\" hidden><div class=\"sk-item\"><div class=\"sk-estimator sk-toggleable\"><input class=\"sk-toggleable__control sk-hidden--visually\" id=\"sk-estimator-id-13\" type=\"checkbox\" checked><label for=\"sk-estimator-id-13\" class=\"sk-toggleable__label sk-toggleable__label-arrow\">RandomForestClassifier</label><div class=\"sk-toggleable__content\"><pre>RandomForestClassifier()</pre></div></div></div></div></div>"
            ]
          },
          "metadata": {},
          "execution_count": 219
        }
      ]
    },
    {
      "cell_type": "markdown",
      "source": [
        "#Creamos predicciones\n",
        "Utilizando las características del conjunto de prueba. Esto devuelve un array de predicciones, una para cada fila en el conjunto de prueba"
      ],
      "metadata": {
        "id": "hsTsAX6YyHxG"
      }
    },
    {
      "cell_type": "code",
      "source": [
        "# Hacer predicciones en el conjunto de prueba\n",
        "y_pred = model.predict(X_test)"
      ],
      "metadata": {
        "id": "17PY7v3JyRgH"
      },
      "execution_count": 220,
      "outputs": []
    },
    {
      "cell_type": "markdown",
      "source": [
        "#Evaluación del modelo"
      ],
      "metadata": {
        "id": "EJFQi0e4yY1g"
      }
    },
    {
      "cell_type": "code",
      "source": [
        "\n",
        "# Calcular métricas de evaluación\n",
        "accuracy = accuracy_score(y_test, y_pred)\n",
        "precision = precision_score(y_test, y_pred)\n",
        "recall = recall_score(y_test, y_pred)\n",
        "f1 = f1_score(y_test, y_pred)\n",
        "roc_auc = roc_auc_score(y_test, y_pred)\n",
        "\n",
        "# Imprimir las métricas de evaluación\n",
        "print('Accuracy:', accuracy)\n",
        "print('Precision:', precision)\n",
        "print('Recall:', recall)\n",
        "print('F1 Score:', f1)\n",
        "print('ROC AUC Score:', roc_auc)"
      ],
      "metadata": {
        "id": "DYoxQEmbyfno",
        "colab": {
          "base_uri": "https://localhost:8080/"
        },
        "outputId": "568af63d-d4ab-4f5d-f600-f0ab5958f4a9"
      },
      "execution_count": 221,
      "outputs": [
        {
          "output_type": "stream",
          "name": "stdout",
          "text": [
            "Accuracy: 0.98\n",
            "Precision: 0.9811320754716981\n",
            "Recall: 0.8813559322033898\n",
            "F1 Score: 0.9285714285714285\n",
            "ROC AUC Score: 0.9392116904418708\n"
          ]
        }
      ]
    },
    {
      "cell_type": "markdown",
      "source": [
        "#Matriz de confusión\n",
        "- La primera fila representa las instancias que pertenecen a la clase negativa (no fraude). En este caso, hay 37 instancias que se clasificaron correctamente como no fraude (verdaderos negativos) y 0 instancias que se clasificaron incorrectamente como fraude (falsos positivos).\n",
        "- La segunda fila representa las instancias que pertenecen a la clase positiva (fraude). En este caso, hay 3 instancias que se clasificaron incorrectamente como no fraude (falsos negativos) y 0 instancias que se clasificaron correctamente como fraude (verdaderos positivos)."
      ],
      "metadata": {
        "id": "s_FdTe38zmHX"
      }
    },
    {
      "cell_type": "code",
      "source": [
        "confusion_mat = confusion_matrix(y_test, y_pred)\n",
        "plt.figure(figsize=(8, 6))\n",
        "sns.heatmap(confusion_mat, annot=True, cmap='Blues', fmt='g')\n",
        "plt.xlabel('Predicted')\n",
        "plt.ylabel('Actual')\n",
        "plt.title('Confusion Matrix')\n",
        "plt.show()"
      ],
      "metadata": {
        "colab": {
          "base_uri": "https://localhost:8080/",
          "height": 564
        },
        "id": "FSxyxIwnzp9u",
        "outputId": "c9f244f6-d126-44bc-d536-6594e9b6cb7f"
      },
      "execution_count": 222,
      "outputs": [
        {
          "output_type": "display_data",
          "data": {
            "text/plain": [
              "<Figure size 800x600 with 2 Axes>"
            ],
            "image/png": "[encoded data removed]"
          },
          "metadata": {}
        }
      ]
    },
    {
      "cell_type": "markdown",
      "source": [
        "#Gráfico de barras\n",
        "conteo - fraude"
      ],
      "metadata": {
        "id": "lqG5o_QZ0fVQ"
      }
    },
    {
      "cell_type": "code",
      "source": [
        "# Crear un gráfico de barras para visualizar los datos\n",
        "fraud_counts = df['Fraud'].value_counts()\n",
        "plt.figure(figsize=(6, 4))\n",
        "sns.barplot(x=fraud_counts.index, y=fraud_counts.values)\n",
        "plt.xlabel('Fraud')\n",
        "plt.ylabel('Count')\n",
        "plt.title('Fraud Counts')\n",
        "plt.show()"
      ],
      "metadata": {
        "colab": {
          "base_uri": "https://localhost:8080/",
          "height": 410
        },
        "id": "v8nvhMJ3z_vk",
        "outputId": "08b7b644-40c0-45e7-871c-2bef024f7d27"
      },
      "execution_count": 223,
      "outputs": [
        {
          "output_type": "display_data",
          "data": {
            "text/plain": [
              "<Figure size 600x400 with 1 Axes>"
            ],
            "image/png": "[encoded data removed]"
          },
          "metadata": {}
        }
      ]
    },
    {
      "cell_type": "markdown",
      "source": [
        "#Histogramas\n"
      ],
      "metadata": {
        "id": "aNcRpMui1Bbo"
      }
    },
    {
      "cell_type": "code",
      "source": [
        "# Crear un histograma que compare los montos facturados y pagados\n",
        "plt.hist(df['BilledAmount'], bins=50, alpha=0.5, label='Billed Amount')\n",
        "plt.hist(df['PaidAmount'], bins=50, alpha=0.5, label='Paid Amount')\n",
        "plt.xlabel('Amount')\n",
        "plt.ylabel('Frequency')\n",
        "plt.title('Comparison of Billed and Paid Amounts')\n",
        "plt.legend(loc='upper right')\n",
        "plt.show()"
      ],
      "metadata": {
        "colab": {
          "base_uri": "https://localhost:8080/",
          "height": 472
        },
        "id": "4dTJ4gB6UKd2",
        "outputId": "0b8a579c-fe51-4ba8-d892-c7c3f4b04432"
      },
      "execution_count": 224,
      "outputs": [
        {
          "output_type": "display_data",
          "data": {
            "text/plain": [
              "<Figure size 640x480 with 1 Axes>"
            ],
            "image/png": "[encoded data removed]"
          },
          "metadata": {}
        }
      ]
    }
  ]
}